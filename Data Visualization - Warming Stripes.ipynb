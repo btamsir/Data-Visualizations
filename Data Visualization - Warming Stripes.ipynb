{
 "cells": [
  {
   "cell_type": "code",
   "execution_count": 23,
   "metadata": {},
   "outputs": [],
   "source": [
    "import pandas as pd\n",
    "import numpy as np\n",
    "import seaborn as sns\n",
    "import matplotlib.pyplot as plt"
   ]
  },
  {
   "cell_type": "code",
   "execution_count": 103,
   "metadata": {},
   "outputs": [],
   "source": [
    "data = np.loadtxt(\"HadCRUT.4.6.0.0.annual_ns_avg.txt\")"
   ]
  },
  {
   "cell_type": "code",
   "execution_count": 104,
   "metadata": {
    "scrolled": true
   },
   "outputs": [],
   "source": [
    "#Subset into one column of data. \n",
    "data = data[:,2]"
   ]
  },
  {
   "cell_type": "code",
   "execution_count": 105,
   "metadata": {},
   "outputs": [
    {
     "data": {
      "text/plain": [
       "array([-0.425, -0.274, -0.28 , -0.321, -0.301, -0.324, -0.413, -0.512,\n",
       "       -0.521, -0.34 , -0.405, -0.484, -0.597, -0.359, -0.564, -0.358,\n",
       "       -0.338, -0.406, -0.326, -0.333, -0.34 , -0.404, -0.29 , -0.364,\n",
       "       -0.435, -0.464, -0.453, -0.146, -0.026, -0.291, -0.288, -0.259,\n",
       "       -0.274, -0.35 , -0.457, -0.444, -0.419, -0.476, -0.359, -0.235,\n",
       "       -0.484, -0.408, -0.526, -0.547, -0.487, -0.46 , -0.255, -0.273,\n",
       "       -0.479, -0.355, -0.272, -0.326, -0.461, -0.543, -0.58 , -0.438,\n",
       "       -0.338, -0.523, -0.563, -0.576, -0.547, -0.595, -0.486, -0.471,\n",
       "       -0.291, -0.202, -0.437, -0.525, -0.396, -0.327, -0.296, -0.237,\n",
       "       -0.346, -0.323, -0.34 , -0.265, -0.155, -0.253, -0.253, -0.394,\n",
       "       -0.181, -0.133, -0.183, -0.32 , -0.177, -0.221, -0.186, -0.064,\n",
       "       -0.044, -0.088, -0.018, -0.021, -0.081, -0.056,  0.094, -0.017,\n",
       "       -0.113, -0.098, -0.101, -0.119, -0.216, -0.091, -0.01 ,  0.06 ,\n",
       "       -0.166, -0.222, -0.297, -0.035,  0.02 , -0.008, -0.073,  0.009,\n",
       "       -0.012,  0.022, -0.246, -0.163, -0.09 , -0.093, -0.133,  0.014,\n",
       "       -0.048, -0.204, -0.08 ,  0.051, -0.227, -0.163, -0.255,  0.034,\n",
       "       -0.077,  0.041,  0.077,  0.125, -0.011,  0.174, -0.033, -0.048,\n",
       "        0.024,  0.171,  0.175,  0.091,  0.267,  0.22 ,  0.071,  0.112,\n",
       "        0.174,  0.289,  0.146,  0.356,  0.5  ,  0.265,  0.259,  0.406,\n",
       "        0.463,  0.473,  0.413,  0.507,  0.468,  0.457,  0.355,  0.465,\n",
       "        0.523,  0.393,  0.437,  0.478,  0.545,  0.73 ,  0.762,  0.636,\n",
       "        0.558,  0.662])"
      ]
     },
     "execution_count": 105,
     "metadata": {},
     "output_type": "execute_result"
    }
   ],
   "source": [
    "data"
   ]
  },
  {
   "cell_type": "code",
   "execution_count": 106,
   "metadata": {},
   "outputs": [
    {
     "data": {
      "text/plain": [
       "<Figure size 1080x1296 with 0 Axes>"
      ]
     },
     "execution_count": 106,
     "metadata": {},
     "output_type": "execute_result"
    },
    {
     "data": {
      "text/plain": [
       "<Figure size 1080x1296 with 0 Axes>"
      ]
     },
     "metadata": {},
     "output_type": "display_data"
    }
   ],
   "source": [
    "temperature = np.stack((data, data))\n",
    "\n",
    "vmin = 100.0\n",
    "vmax = 100.0\n",
    "plt.figure(figsize=(15,18))"
   ]
  },
  {
   "cell_type": "code",
   "execution_count": 101,
   "metadata": {
    "scrolled": false
   },
   "outputs": [
    {
     "data": {
      "image/png": "[encoded data removed]",
      "text/plain": [
       "<Figure size 432x288 with 1 Axes>"
      ]
     },
     "metadata": {
      "needs_background": "light"
     },
     "output_type": "display_data"
    }
   ],
   "source": [
    "img = plt.imshow(stacked_temp, cmap='RdBu_r', aspect= 50, )\n",
    "plt.gca().set_axis_off()"
   ]
  },
  {
   "cell_type": "code",
   "execution_count": 102,
   "metadata": {},
   "outputs": [
    {
     "data": {
      "image/png": "[encoded data removed]",
      "text/plain": [
       "<Figure size 432x288 with 1 Axes>"
      ]
     },
     "metadata": {
      "needs_background": "light"
     },
     "output_type": "display_data"
    }
   ],
   "source": [
    "#Different cmap\n",
    "img2 = plt.imshow(stacked_temp, cmap='PuBu_r', aspect= 50)\n",
    "plt.gca().set_axis_off()\n"
   ]
  },
  {
   "cell_type": "code",
   "execution_count": 107,
   "metadata": {},
   "outputs": [
    {
     "data": {
      "image/png": "[encoded data removed]",
      "text/plain": [
       "<Figure size 432x288 with 1 Axes>"
      ]
     },
     "metadata": {
      "needs_background": "light"
     },
     "output_type": "display_data"
    }
   ],
   "source": [
    "img = plt.imshow(stacked_temp, cmap='RdBu_r', aspect= 50, )\n",
    "plt.gca().set_axis_off()"
   ]
  },
  {
   "cell_type": "code",
   "execution_count": null,
   "metadata": {},
   "outputs": [],
   "source": []
  }
 ],
 "metadata": {
  "kernelspec": {
   "display_name": "Python 3",
   "language": "python",
   "name": "python3"
  },
  "language_info": {
   "codemirror_mode": {
    "name": "ipython",
    "version": 3
   },
   "file_extension": ".py",
   "mimetype": "text/x-python",
   "name": "python",
   "nbconvert_exporter": "python",
   "pygments_lexer": "ipython3",
   "version": "3.7.1"
  }
 },
 "nbformat": 4,
 "nbformat_minor": 2
}
