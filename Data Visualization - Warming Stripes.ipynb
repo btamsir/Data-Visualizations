{
 "cells": [
  {
   "cell_type": "code",
   "execution_count": 23,
   "metadata": {},
   "outputs": [],
   "source": [
    "import pandas as pd\n",
    "import numpy as np\n",
    "import seaborn as sns\n",
    "import matplotlib.pyplot as plt"
   ]
  },
  {
   "cell_type": "code",
   "execution_count": 116,
   "metadata": {},
   "outputs": [
    {
     "data": {
      "text/plain": [
       "array([[ 1.850e+03, -3.560e-01,  1.060e-01,  3.000e-03,  6.600e-02,\n",
       "         8.300e-02],\n",
       "       [ 1.851e+03, -1.940e-01,  1.020e-01,  3.000e-03,  6.700e-02,\n",
       "         7.600e-02],\n",
       "       [ 1.852e+03, -2.040e-01,  1.000e-01,  3.000e-03,  6.400e-02,\n",
       "         7.700e-02],\n",
       "       ...,\n",
       "       [ 2.017e+03,  6.730e-01,  4.100e-02,  2.000e-03,  1.100e-02,\n",
       "         4.000e-02],\n",
       "       [ 2.018e+03,  5.990e-01,  3.900e-02,  2.000e-03,  8.000e-03,\n",
       "         3.900e-02],\n",
       "       [ 2.019e+03,  7.080e-01,  1.250e-01,  6.000e-03,  1.200e-02,\n",
       "         1.250e-01]])"
      ]
     },
     "execution_count": 116,
     "metadata": {},
     "output_type": "execute_result"
    }
   ],
   "source": [
    "data = np.loadtxt(\"HadCRUT.4.6.0.0.annual_ns_avg.35.txt\")\n",
    "data"
   ]
  },
  {
   "cell_type": "code",
   "execution_count": 117,
   "metadata": {
    "scrolled": true
   },
   "outputs": [],
   "source": [
    "#Subset into one column of data. \n",
    "data = data[:,1]"
   ]
  },
  {
   "cell_type": "code",
   "execution_count": 118,
   "metadata": {},
   "outputs": [
    {
     "data": {
      "text/plain": [
       "array([-0.356, -0.194, -0.204, -0.252, -0.233, -0.254, -0.337, -0.447,\n",
       "       -0.446, -0.269, -0.329, -0.393, -0.498, -0.254, -0.474, -0.251,\n",
       "       -0.218, -0.279, -0.204, -0.231, -0.249, -0.312, -0.21 , -0.272,\n",
       "       -0.338, -0.368, -0.359, -0.049,  0.066, -0.207, -0.205, -0.173,\n",
       "       -0.193, -0.271, -0.382, -0.364, -0.343, -0.392, -0.281, -0.148,\n",
       "       -0.391, -0.301, -0.423, -0.439, -0.376, -0.357, -0.153, -0.173,\n",
       "       -0.376, -0.253, -0.166, -0.222, -0.369, -0.448, -0.489, -0.348,\n",
       "       -0.26 , -0.443, -0.491, -0.506, -0.47 , -0.528, -0.42 , -0.406,\n",
       "       -0.224, -0.12 , -0.367, -0.445, -0.313, -0.254, -0.231, -0.178,\n",
       "       -0.291, -0.269, -0.281, -0.202, -0.094, -0.196, -0.192, -0.339,\n",
       "       -0.13 , -0.079, -0.132, -0.269, -0.126, -0.172, -0.142, -0.022,\n",
       "       -0.001, -0.044,  0.03 ,  0.039, -0.002,  0.025,  0.161,  0.038,\n",
       "       -0.066, -0.039, -0.042, -0.075, -0.174, -0.05 ,  0.034,  0.095,\n",
       "       -0.133, -0.186, -0.265, -0.007,  0.044,  0.016, -0.043,  0.046,\n",
       "        0.023,  0.053, -0.223, -0.145, -0.073, -0.081, -0.119,  0.026,\n",
       "       -0.029, -0.188, -0.07 ,  0.053, -0.221, -0.155, -0.247,  0.042,\n",
       "       -0.062,  0.061,  0.093,  0.139,  0.015,  0.201, -0.006, -0.023,\n",
       "        0.051,  0.2  ,  0.21 ,  0.128,  0.304,  0.262,  0.115,  0.159,\n",
       "        0.218,  0.334,  0.189,  0.4  ,  0.55 ,  0.315,  0.305,  0.451,\n",
       "        0.504,  0.514,  0.458,  0.556,  0.516,  0.5  ,  0.403,  0.512,\n",
       "        0.568,  0.434,  0.475,  0.517,  0.579,  0.766,  0.801,  0.673,\n",
       "        0.599,  0.708])"
      ]
     },
     "execution_count": 118,
     "metadata": {},
     "output_type": "execute_result"
    }
   ],
   "source": [
    "data"
   ]
  },
  {
   "cell_type": "code",
   "execution_count": 119,
   "metadata": {},
   "outputs": [],
   "source": [
    "temperature = np.stack((data, data))\n",
    "\n"
   ]
  },
  {
   "cell_type": "code",
   "execution_count": 120,
   "metadata": {
    "scrolled": false
   },
   "outputs": [
    {
     "data": {
      "image/png": "[encoded data removed]",
      "text/plain": [
       "<Figure size 432x288 with 1 Axes>"
      ]
     },
     "metadata": {
      "needs_background": "light"
     },
     "output_type": "display_data"
    }
   ],
   "source": [
    "img = plt.imshow(temperature, cmap='RdBu_r', aspect= 50, )\n",
    "plt.gca().set_axis_off()"
   ]
  },
  {
   "cell_type": "code",
   "execution_count": 121,
   "metadata": {},
   "outputs": [
    {
     "data": {
      "image/png": "[encoded data removed]",
      "text/plain": [
       "<Figure size 432x288 with 1 Axes>"
      ]
     },
     "metadata": {
      "needs_background": "light"
     },
     "output_type": "display_data"
    }
   ],
   "source": [
    "#Different cmap\n",
    "img2 = plt.imshow(temperature, cmap='PuBu_r', aspect= 50)\n",
    "plt.gca().set_axis_off()\n"
   ]
  },
  {
   "cell_type": "code",
   "execution_count": null,
   "metadata": {},
   "outputs": [],
   "source": []
  }
 ],
 "metadata": {
  "kernelspec": {
   "display_name": "Python 3",
   "language": "python",
   "name": "python3"
  },
  "language_info": {
   "codemirror_mode": {
    "name": "ipython",
    "version": 3
   },
   "file_extension": ".py",
   "mimetype": "text/x-python",
   "name": "python",
   "nbconvert_exporter": "python",
   "pygments_lexer": "ipython3",
   "version": "3.7.1"
  }
 },
 "nbformat": 4,
 "nbformat_minor": 2
}
